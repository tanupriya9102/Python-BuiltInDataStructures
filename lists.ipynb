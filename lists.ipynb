{
 "cells": [
  {
   "cell_type": "code",
   "execution_count": 1,
   "id": "65ccf8b9",
   "metadata": {},
   "outputs": [
    {
     "name": "stdout",
     "output_type": "stream",
     "text": [
      "old list:  ['a', 'e', 'i', 'o', 'u']\n",
      "new list:  ['A', 'e', 'i', 'o', 'u']\n"
     ]
    }
   ],
   "source": [
    "# lists=>mutable\n",
    "L=['a','e','i','o','u']\n",
    "print('old list: ',L)\n",
    "L[0]='A'\n",
    "print('new list: ',L)"
   ]
  },
  {
   "cell_type": "code",
   "execution_count": 2,
   "id": "e1996fae",
   "metadata": {},
   "outputs": [
    {
     "name": "stdout",
     "output_type": "stream",
     "text": [
      "A\n",
      "e\n",
      "i\n",
      "o\n",
      "u\n"
     ]
    }
   ],
   "source": [
    "# traversing a list\n",
    "for i in L:\n",
    "    print(i)"
   ]
  },
  {
   "cell_type": "code",
   "execution_count": 3,
   "id": "8ee815d0",
   "metadata": {},
   "outputs": [
    {
     "name": "stdout",
     "output_type": "stream",
     "text": [
      "[1, 2, 3, 4, 5, 6]\n",
      "[1, 2, 3, 1, 2, 3, 1, 2, 3]\n"
     ]
    }
   ],
   "source": [
    "# list concatenation\n",
    "l1=[1,2,3]\n",
    "l2=[4,5,6]\n",
    "print(l1+l2)\n",
    "\n",
    "# list replication\n",
    "print(l1*3)"
   ]
  },
  {
   "cell_type": "code",
   "execution_count": 4,
   "id": "b0f3ec2b",
   "metadata": {},
   "outputs": [
    {
     "ename": "TypeError",
     "evalue": "can only concatenate list (not \"int\") to list",
     "output_type": "error",
     "traceback": [
      "\u001b[1;31m---------------------------------------------------------------------------\u001b[0m",
      "\u001b[1;31mTypeError\u001b[0m                                 Traceback (most recent call last)",
      "Input \u001b[1;32mIn [4]\u001b[0m, in \u001b[0;36m<cell line: 1>\u001b[1;34m()\u001b[0m\n\u001b[1;32m----> 1\u001b[0m \u001b[38;5;28mprint\u001b[39m(\u001b[43ml1\u001b[49m\u001b[38;5;241;43m+\u001b[39;49m\u001b[38;5;241;43m2\u001b[39;49m)\n",
      "\u001b[1;31mTypeError\u001b[0m: can only concatenate list (not \"int\") to list"
     ]
    }
   ],
   "source": [
    "print(l1+2)#not possible for list =>possible for numpy array"
   ]
  },
  {
   "cell_type": "code",
   "execution_count": null,
   "id": "f192a277",
   "metadata": {},
   "outputs": [],
   "source": [
    "# list slicing\n",
    "print(L[0:4:2])\n",
    "\n",
    "# reverse list\n",
    "print(L[-1:-len(L)-1:-1])"
   ]
  },
  {
   "cell_type": "code",
   "execution_count": null,
   "id": "f5962cac",
   "metadata": {},
   "outputs": [],
   "source": [
    "# appending elements to end of list\n",
    "l1=[1,2,3,4,5]\n",
    "l1.append(4)\n",
    "print(l1)\n",
    "# pop elements\n",
    "l1.pop()\n",
    "print(l1)\n",
    "# delete elements\n",
    "del l1[0:5:2]\n",
    "print(l1)"
   ]
  },
  {
   "cell_type": "code",
   "execution_count": null,
   "id": "2b467e72",
   "metadata": {},
   "outputs": [],
   "source": [
    "l2.index(5)"
   ]
  },
  {
   "cell_type": "code",
   "execution_count": null,
   "id": "596af8fd",
   "metadata": {},
   "outputs": [],
   "source": [
    "# 3 times executed=>last 3 elements 3 times\n",
    "l1.extend(l2)\n",
    "print(l1)"
   ]
  },
  {
   "cell_type": "code",
   "execution_count": null,
   "id": "8f2fd130",
   "metadata": {},
   "outputs": [],
   "source": [
    "print(l1)\n",
    "l1.remove(5)\n",
    "print(l1)\n",
    "l1.clear()\n",
    "print(l1)"
   ]
  },
  {
   "cell_type": "code",
   "execution_count": null,
   "id": "0c2a91c3",
   "metadata": {},
   "outputs": [],
   "source": [
    "print(L)\n",
    "L.reverse()\n",
    "print(L)"
   ]
  },
  {
   "cell_type": "code",
   "execution_count": null,
   "id": "f3e305a2",
   "metadata": {},
   "outputs": [],
   "source": [
    "l3=[2,55,3,5,6,1]\n",
    "print(l3)\n",
    "l3.sort()\n",
    "print(l3)\n",
    "l3.reverse()\n",
    "print(l3)"
   ]
  },
  {
   "cell_type": "code",
   "execution_count": null,
   "id": "ce85ca26",
   "metadata": {},
   "outputs": [],
   "source": [
    "# NOTE:eval function\n",
    "\n",
    "l=eval(input(\"enter a list:\"))\n",
    "print(type(L))\n"
   ]
  },
  {
   "cell_type": "code",
   "execution_count": 8,
   "id": "bbb9f097",
   "metadata": {},
   "outputs": [
    {
     "name": "stdout",
     "output_type": "stream",
     "text": [
      "[5, 5, 5]\n"
     ]
    }
   ],
   "source": [
    "l=3*[5] #list of 3 elements with values 5\n",
    "print(l)"
   ]
  },
  {
   "cell_type": "code",
   "execution_count": 9,
   "id": "3477ac78",
   "metadata": {},
   "outputs": [
    {
     "name": "stdout",
     "output_type": "stream",
     "text": [
      "[1, 2, 3, 4, 5, 6]\n",
      "[1, 2, 4, 5, 6]\n"
     ]
    }
   ],
   "source": [
    "# to delete element at particular position\n",
    "\n",
    "a=[1,2,3,4,5,6]\n",
    "print(a)\n",
    "a.pop(2)\n",
    "print(a)"
   ]
  },
  {
   "cell_type": "code",
   "execution_count": null,
   "id": "e05c9a4f",
   "metadata": {},
   "outputs": [],
   "source": []
  }
 ],
 "metadata": {
  "kernelspec": {
   "display_name": "Python 3 (ipykernel)",
   "language": "python",
   "name": "python3"
  },
  "language_info": {
   "codemirror_mode": {
    "name": "ipython",
    "version": 3
   },
   "file_extension": ".py",
   "mimetype": "text/x-python",
   "name": "python",
   "nbconvert_exporter": "python",
   "pygments_lexer": "ipython3",
   "version": "3.10.5"
  }
 },
 "nbformat": 4,
 "nbformat_minor": 5
}
