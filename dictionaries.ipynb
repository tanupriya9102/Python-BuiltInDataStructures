{
 "cells": [
  {
   "cell_type": "code",
   "execution_count": 5,
   "id": "19f6c5ac",
   "metadata": {},
   "outputs": [
    {
     "name": "stdout",
     "output_type": "stream",
     "text": [
      "{'name': 'John', 'age': 24, 'salary': 25000}\n",
      "{'name': 'Jiya', 'age': 24, 'salary': 26000}\n",
      "{'name': 'Jenny', 'age': 25, 'salary': 27000}\n"
     ]
    }
   ],
   "source": [
    "# keys of dictionsry always immutable but dictionaries are mutable\n",
    "# creating dictionary\n",
    "# 1.\n",
    "emp1=dict(name='John',age=24,salary=25000)\n",
    "print(emp1)\n",
    "# 2\n",
    "emp2={'name':'Jiya','age':24,'salary':26000}\n",
    "print(emp2)\n",
    "\n",
    "# 3\n",
    "emp3=dict(zip(('name','age','salary'),('Jenny',25,27000)))\n",
    "print(emp3)\n"
   ]
  },
  {
   "cell_type": "code",
   "execution_count": 6,
   "id": "0f093ecd",
   "metadata": {},
   "outputs": [
    {
     "name": "stdout",
     "output_type": "stream",
     "text": [
      "{'name': 'John', 'age': 24, 'salary': 25000, 'dept': 'sales'}\n"
     ]
    }
   ],
   "source": [
    "# adding elements to a dictionary\n",
    "emp1['dept']=\"sales\"\n",
    "print(emp1)"
   ]
  },
  {
   "cell_type": "code",
   "execution_count": 8,
   "id": "9eb6a624",
   "metadata": {},
   "outputs": [
    {
     "name": "stdout",
     "output_type": "stream",
     "text": [
      "{'name': 'John', 'salary': 25000, 'dept': 'sales'}\n"
     ]
    }
   ],
   "source": [
    "emp1['age']=26\n",
    "print(emp1)\n",
    "\n",
    "del emp1[\"age\"]\n",
    "print(emp1)"
   ]
  },
  {
   "cell_type": "code",
   "execution_count": 9,
   "id": "1a86f09c",
   "metadata": {},
   "outputs": [
    {
     "data": {
      "text/plain": [
       "24"
      ]
     },
     "execution_count": 9,
     "metadata": {},
     "output_type": "execute_result"
    }
   ],
   "source": [
    "emp2.pop(\"age\")"
   ]
  },
  {
   "cell_type": "code",
   "execution_count": 10,
   "id": "9eb4d2b4",
   "metadata": {},
   "outputs": [
    {
     "data": {
      "text/plain": [
       "False"
      ]
     },
     "execution_count": 10,
     "metadata": {},
     "output_type": "execute_result"
    }
   ],
   "source": [
    "\"John\" in emp1"
   ]
  },
  {
   "cell_type": "code",
   "execution_count": 11,
   "id": "500fd6b7",
   "metadata": {},
   "outputs": [
    {
     "data": {
      "text/plain": [
       "True"
      ]
     },
     "execution_count": 11,
     "metadata": {},
     "output_type": "execute_result"
    }
   ],
   "source": [
    "\"name\" in emp1"
   ]
  },
  {
   "cell_type": "code",
   "execution_count": 13,
   "id": "325d031a",
   "metadata": {},
   "outputs": [
    {
     "name": "stdout",
     "output_type": "stream",
     "text": [
      "{}\n"
     ]
    }
   ],
   "source": [
    "emp2.clear()\n",
    "print(emp2)"
   ]
  },
  {
   "cell_type": "code",
   "execution_count": 14,
   "id": "02d96bea",
   "metadata": {},
   "outputs": [
    {
     "data": {
      "text/plain": [
       "'sales'"
      ]
     },
     "execution_count": 14,
     "metadata": {},
     "output_type": "execute_result"
    }
   ],
   "source": [
    "emp1.get('dept')"
   ]
  },
  {
   "cell_type": "code",
   "execution_count": 18,
   "id": "6aa2235e",
   "metadata": {},
   "outputs": [
    {
     "name": "stdout",
     "output_type": "stream",
     "text": [
      "('name', 'John')\n",
      "('salary', 25000)\n",
      "('dept', 'sales')\n"
     ]
    }
   ],
   "source": [
    "l=emp1.items()\n",
    "for i in l:\n",
    "    print(i)\n",
    "    \n"
   ]
  },
  {
   "cell_type": "code",
   "execution_count": 24,
   "id": "52235475",
   "metadata": {
    "scrolled": true
   },
   "outputs": [
    {
     "name": "stdout",
     "output_type": "stream",
     "text": [
      "dict_keys(['name', 'salary', 'dept'])\n",
      "dict_values(['John', 25000, 'sales'])\n",
      "{'name': 'John', 'salary': 25000, 'dept': 'sales', 'abc': 'shinchan', 'father': 'sam', 'Mother': 'sanya'}\n"
     ]
    }
   ],
   "source": [
    "k=emp1.keys()\n",
    "print(k)\n",
    "\n",
    "v=emp1.values()\n",
    "print(v)\n",
    "\n",
    "\n",
    "emp4={'abc':\"shinchan\",'father':\"sam\",'Mother':\"sanya\"}\n",
    "emp1.update(emp4)\n",
    "print(emp1)\n"
   ]
  },
  {
   "cell_type": "code",
   "execution_count": 1,
   "id": "93e6835d",
   "metadata": {},
   "outputs": [
    {
     "name": "stdout",
     "output_type": "stream",
     "text": [
      "No. of students:2\n",
      "enter name of student: tanu\n",
      "enter total marks: 450\n",
      "enter name of student: tanya\n",
      "enter total marks: 440\n",
      "Dictionary of students is: \n",
      "{'tanu': 450, 'tanya': 440}\n"
     ]
    }
   ],
   "source": [
    "# input dictionary\n",
    "n=int(input(\"No. of students:\"))\n",
    "dic={}\n",
    "for i in range(n):\n",
    "    key=input(\"enter name of student: \")\n",
    "    value=int(input(\"enter total marks: \"))\n",
    "    dic[key]=value\n",
    "print(\"Dictionary of students is: \")\n",
    "print(dic)"
   ]
  },
  {
   "cell_type": "markdown",
   "id": "dd27d097",
   "metadata": {},
   "source": []
  },
  {
   "cell_type": "code",
   "execution_count": 2,
   "id": "d540599e",
   "metadata": {},
   "outputs": [
    {
     "name": "stdout",
     "output_type": "stream",
     "text": [
      "No. of students:1\n",
      "enter name of student: tanu\n",
      "enter total marks: [1,2,3,4]\n",
      "Dictionary of students is: \n",
      "{'tanu': [1, 2, 3, 4]}\n"
     ]
    }
   ],
   "source": [
    "# input dictionary\n",
    "n=int(input(\"No. of students:\"))\n",
    "dic={}\n",
    "for i in range(n):\n",
    "    key=input(\"enter name of student: \")\n",
    "    value=eval(input(\"enter total marks: \"))\n",
    "    dic[key]=value\n",
    "print(\"Dictionary of students is: \")\n",
    "print(dic)"
   ]
  },
  {
   "cell_type": "code",
   "execution_count": null,
   "id": "42438a06",
   "metadata": {},
   "outputs": [],
   "source": []
  },
  {
   "cell_type": "code",
   "execution_count": null,
   "id": "c8f9c336",
   "metadata": {},
   "outputs": [],
   "source": []
  }
 ],
 "metadata": {
  "kernelspec": {
   "display_name": "Python 3 (ipykernel)",
   "language": "python",
   "name": "python3"
  },
  "language_info": {
   "codemirror_mode": {
    "name": "ipython",
    "version": 3
   },
   "file_extension": ".py",
   "mimetype": "text/x-python",
   "name": "python",
   "nbconvert_exporter": "python",
   "pygments_lexer": "ipython3",
   "version": "3.10.1"
  }
 },
 "nbformat": 4,
 "nbformat_minor": 5
}
