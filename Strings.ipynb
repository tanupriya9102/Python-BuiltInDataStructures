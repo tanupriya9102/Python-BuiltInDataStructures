{
 "cells": [
  {
   "cell_type": "code",
   "execution_count": 5,
   "id": "4fdff7ed",
   "metadata": {},
   "outputs": [
    {
     "name": "stdout",
     "output_type": "stream",
     "text": [
      "Tanupriya"
     ]
    }
   ],
   "source": [
    "# traversing string\n",
    "s=\"Tanupriya\"\n",
    "for c in s:\n",
    "    print(c,end=\"\")"
   ]
  },
  {
   "cell_type": "code",
   "execution_count": 4,
   "id": "542a1307",
   "metadata": {},
   "outputs": [
    {
     "name": "stdout",
     "output_type": "stream",
     "text": [
      "ayirpunaT"
     ]
    }
   ],
   "source": [
    "# Reversing a string\n",
    "l=len(s)\n",
    "for i in range(-1,-l-1,-1):\n",
    "    print(s[i],end=\"\")"
   ]
  },
  {
   "cell_type": "code",
   "execution_count": 10,
   "id": "db665aab",
   "metadata": {},
   "outputs": [
    {
     "name": "stdout",
     "output_type": "stream",
     "text": [
      "string concatenation: abcdef\n",
      "string replication: abcabcabc\n"
     ]
    }
   ],
   "source": [
    "# string concatenation\n",
    "s1=\"abc\"\n",
    "s2=\"def\"\n",
    "print(\"string concatenation: \"+(s1+s2))\n",
    "\n",
    "# string replication\n",
    "print(\"string replication: \"+(s1*3))"
   ]
  },
  {
   "cell_type": "code",
   "execution_count": 14,
   "id": "1ab8c4ec",
   "metadata": {},
   "outputs": [
    {
     "data": {
      "text/plain": [
       "True"
      ]
     },
     "execution_count": 14,
     "metadata": {},
     "output_type": "execute_result"
    }
   ],
   "source": [
    "# membership operators\n",
    "\"tanu\" in \"tanupriya\"\n",
    "\"Tanu\" not in \"tanupriya\"#both true\n"
   ]
  },
  {
   "cell_type": "code",
   "execution_count": 18,
   "id": "7787069f",
   "metadata": {},
   "outputs": [
    {
     "data": {
      "text/plain": [
       "True"
      ]
     },
     "execution_count": 18,
     "metadata": {},
     "output_type": "execute_result"
    }
   ],
   "source": [
    "# IUPAC\\Ordinal values\n",
    "# 0-9 48-57\n",
    "# A-Z 65-90\n",
    "# a-z 97-122\n",
    "# used in comparison opertaors\n",
    "'a'>'A'\n",
    "\n"
   ]
  },
  {
   "cell_type": "code",
   "execution_count": 22,
   "id": "0a2befa9",
   "metadata": {},
   "outputs": [
    {
     "name": "stdout",
     "output_type": "stream",
     "text": [
      "Tanu\n",
      "alterate characters: Tnpia\n"
     ]
    }
   ],
   "source": [
    "# string slices\n",
    "print(s[0:4])\n",
    "print(\"alterate characters: \"+s[0::2])"
   ]
  },
  {
   "cell_type": "code",
   "execution_count": 37,
   "id": "ac2a735a",
   "metadata": {},
   "outputs": [
    {
     "name": "stdout",
     "output_type": "stream",
     "text": [
      "1.capitalize():This is tanupriya\n",
      "2.find(sub,start,end): 8\n",
      "3a.isalnum(): True\n",
      "3b.isalnum(): True\n",
      "3b.isalnum(): True\n",
      "4.upper: THIS IS TANUPRIYA\n",
      "5.lstrip(): anupriya\n",
      "5.rstrip(): this is tanup\n"
     ]
    }
   ],
   "source": [
    "# string functions and methods\n",
    "str=\"this is tanupriya\"\n",
    "# 1.\n",
    "print(\"1.capitalize():\"+str.capitalize())\n",
    "sub=\"tanu\"\n",
    "# 2.\n",
    "print(\"2.find(sub,start,end):\",str.find(sub))\n",
    "# 3.\n",
    "an=\"abc123\"\n",
    "num=\"123\"\n",
    "print(\"3a.isalnum():\",sub.isalnum())\n",
    "print(\"3b.isalnum():\",an.isalnum())\n",
    "print(\"3b.isalnum():\",num.isalnum())\n",
    "# similarly isalpha(), isupper(),islower(),isnum(),isspace()\n",
    "print(\"4.upper: \"+str.upper())#simlarly lower\n",
    "print(\"5.lstrip():\",str.lstrip(\"this \"))#removes all possible combinations of given string from extreme left(always includes first char=>in seq from left)\n",
    "print(\"5.rstrip():\",str.rstrip(\"tiyar\"))#removes all possible combinations of given string from extreme right(always includes last char=>in seq from right)"
   ]
  },
  {
   "cell_type": "code",
   "execution_count": null,
   "id": "34649b2a",
   "metadata": {},
   "outputs": [],
   "source": []
  }
 ],
 "metadata": {
  "kernelspec": {
   "display_name": "Python 3 (ipykernel)",
   "language": "python",
   "name": "python3"
  },
  "language_info": {
   "codemirror_mode": {
    "name": "ipython",
    "version": 3
   },
   "file_extension": ".py",
   "mimetype": "text/x-python",
   "name": "python",
   "nbconvert_exporter": "python",
   "pygments_lexer": "ipython3",
   "version": "3.10.1"
  }
 },
 "nbformat": 4,
 "nbformat_minor": 5
}
